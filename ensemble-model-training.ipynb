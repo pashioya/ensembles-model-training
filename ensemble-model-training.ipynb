{
 "cells": [
  {
   "cell_type": "code",
   "execution_count": 5,
   "metadata": {},
   "outputs": [],
   "source": [
    "from sklearn.datasets import fetch_openml\n",
    "from sklearn.model_selection import train_test_split\n",
    "\n",
    "\n"
   ]
  },
  {
   "cell_type": "code",
   "execution_count": 6,
   "metadata": {},
   "outputs": [],
   "source": [
    "# Load MNIST dataset\n",
    "mnist = fetch_openml('mnist_784', version=1)\n",
    "X, y = mnist[\"data\"], mnist[\"target\"]\n",
    "\n",
    "# Split the data into training, validation, and test sets\n",
    "X_train, X_temp, y_train, y_temp = train_test_split(X, y, test_size=0.2, random_state=42)\n",
    "X_val, X_test, y_val, y_test = train_test_split(X_temp, y_temp, test_size=0.5, random_state=42)"
   ]
  },
  {
   "cell_type": "code",
   "execution_count": 7,
   "metadata": {},
   "outputs": [
    {
     "name": "stderr",
     "output_type": "stream",
     "text": [
      "s:\\Development\\kdg\\Data\\5\\ensembles-model-training\\.venv\\Lib\\site-packages\\sklearn\\neural_network\\_multilayer_perceptron.py:691: ConvergenceWarning: Stochastic Optimizer: Maximum iterations (10) reached and the optimization hasn't converged yet.\n",
      "  warnings.warn(\n"
     ]
    },
    {
     "name": "stdout",
     "output_type": "stream",
     "text": [
      "Random Forest Accuracy: 0.9648571428571429\n",
      "MLP Accuracy: 0.9401428571428572\n",
      "SVM Accuracy: 0.975\n"
     ]
    }
   ],
   "source": [
    "from sklearn.ensemble import RandomForestClassifier\n",
    "from sklearn.neural_network import MLPClassifier\n",
    "from sklearn.svm import SVC\n",
    "from sklearn.metrics import accuracy_score\n",
    "\n",
    "# Initialize classifiers\n",
    "rf_classifier = RandomForestClassifier(n_estimators=100, random_state=42)\n",
    "mlp_classifier = MLPClassifier(hidden_layer_sizes=(100,), max_iter=10, random_state=42)\n",
    "svm_classifier = SVC(probability=True, random_state=42)\n",
    "\n",
    "# Train classifiers\n",
    "rf_classifier.fit(X_train, y_train)\n",
    "mlp_classifier.fit(X_train, y_train)\n",
    "svm_classifier.fit(X_train, y_train)\n",
    "\n",
    "# Evaluate on validation set\n",
    "rf_val_preds = rf_classifier.predict(X_val)\n",
    "mlp_val_preds = mlp_classifier.predict(X_val)\n",
    "svm_val_preds = svm_classifier.predict(X_val)\n",
    "\n",
    "# Print accuracy for each classifier\n",
    "print(\"Random Forest Accuracy:\", accuracy_score(y_val, rf_val_preds))\n",
    "print(\"MLP Accuracy:\", accuracy_score(y_val, mlp_val_preds))\n",
    "print(\"SVM Accuracy:\", accuracy_score(y_val, svm_val_preds))\n"
   ]
  },
  {
   "cell_type": "code",
   "execution_count": 8,
   "metadata": {},
   "outputs": [
    {
     "name": "stderr",
     "output_type": "stream",
     "text": [
      "s:\\Development\\kdg\\Data\\5\\ensembles-model-training\\.venv\\Lib\\site-packages\\sklearn\\neural_network\\_multilayer_perceptron.py:691: ConvergenceWarning: Stochastic Optimizer: Maximum iterations (10) reached and the optimization hasn't converged yet.\n",
      "  warnings.warn(\n"
     ]
    },
    {
     "name": "stdout",
     "output_type": "stream",
     "text": [
      "Voting Ensemble Accuracy: 0.9738571428571429\n"
     ]
    }
   ],
   "source": [
    "from sklearn.ensemble import VotingClassifier\n",
    "\n",
    "# Create a voting ensemble (soft or hard voting)\n",
    "voting_classifier = VotingClassifier(estimators=[\n",
    "    ('rf', rf_classifier),\n",
    "    ('mlp', mlp_classifier),\n",
    "    ('svm', svm_classifier)],\n",
    "    voting='soft')  # Use 'hard' for hard voting\n",
    "\n",
    "# Train the voting ensemble\n",
    "voting_classifier.fit(X_train, y_train)\n",
    "\n",
    "# Evaluate on the test set\n",
    "voting_test_preds = voting_classifier.predict(X_test)\n",
    "\n",
    "# Print accuracy for the ensemble\n",
    "print(\"Voting Ensemble Accuracy:\", accuracy_score(y_test, voting_test_preds))\n"
   ]
  },
  {
   "cell_type": "code",
   "execution_count": 10,
   "metadata": {},
   "outputs": [],
   "source": [
    "import numpy as np\n",
    "# Get predictions on validation set\n",
    "rf_val_preds = rf_classifier.predict(X_val)\n",
    "mlp_val_preds = mlp_classifier.predict(X_val)\n",
    "svm_val_preds = svm_classifier.predict(X_val)\n",
    "\n",
    "# Create a new training set for the blender\n",
    "blender_X_train = np.column_stack((rf_val_preds, mlp_val_preds, svm_val_preds))\n",
    "blender_y_train = y_val\n"
   ]
  },
  {
   "cell_type": "code",
   "execution_count": 12,
   "metadata": {},
   "outputs": [
    {
     "name": "stderr",
     "output_type": "stream",
     "text": [
      "s:\\Development\\kdg\\Data\\5\\ensembles-model-training\\.venv\\Lib\\site-packages\\sklearn\\linear_model\\_logistic.py:460: ConvergenceWarning: lbfgs failed to converge (status=1):\n",
      "STOP: TOTAL NO. of ITERATIONS REACHED LIMIT.\n",
      "\n",
      "Increase the number of iterations (max_iter) or scale the data as shown in:\n",
      "    https://scikit-learn.org/stable/modules/preprocessing.html\n",
      "Please also refer to the documentation for alternative solver options:\n",
      "    https://scikit-learn.org/stable/modules/linear_model.html#logistic-regression\n",
      "  n_iter_i = _check_optimize_result(\n"
     ]
    },
    {
     "name": "stdout",
     "output_type": "stream",
     "text": [
      "Stacking Ensemble Accuracy: 0.9601428571428572\n"
     ]
    }
   ],
   "source": [
    "from sklearn.ensemble import StackingClassifier\n",
    "from sklearn.linear_model import LogisticRegression\n",
    "\n",
    "# Create a blender classifier (you can use any classifier, e.g., Logistic Regression)\n",
    "blender_classifier = LogisticRegression()\n",
    "\n",
    "# Train the blender\n",
    "blender_classifier.fit(blender_X_train, blender_y_train)\n",
    "\n",
    "# Get predictions from individual classifiers on the test set\n",
    "rf_test_preds = rf_classifier.predict(X_test)\n",
    "mlp_test_preds = mlp_classifier.predict(X_test)\n",
    "svm_test_preds = svm_classifier.predict(X_test)\n",
    "\n",
    "# Create input for blender from test set predictions\n",
    "blender_X_test = np.column_stack((rf_test_preds, mlp_test_preds, svm_test_preds))\n",
    "\n",
    "# Get predictions from the blender on the test set\n",
    "blender_test_preds = blender_classifier.predict(blender_X_test)\n",
    "\n",
    "# Print accuracy for the stacking ensemble\n",
    "print(\"Stacking Ensemble Accuracy:\", accuracy_score(y_test, blender_test_preds))\n"
   ]
  }
 ],
 "metadata": {
  "kernelspec": {
   "display_name": ".venv",
   "language": "python",
   "name": "python3"
  },
  "language_info": {
   "codemirror_mode": {
    "name": "ipython",
    "version": 3
   },
   "file_extension": ".py",
   "mimetype": "text/x-python",
   "name": "python",
   "nbconvert_exporter": "python",
   "pygments_lexer": "ipython3",
   "version": "3.11.7"
  }
 },
 "nbformat": 4,
 "nbformat_minor": 2
}
